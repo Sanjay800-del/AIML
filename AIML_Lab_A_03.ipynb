{
  "nbformat": 4,
  "nbformat_minor": 0,
  "metadata": {
    "colab": {
      "provenance": [],
      "authorship_tag": "ABX9TyOJWirYjQjgTSUIdyHCpIxm",
      "include_colab_link": true
    },
    "kernelspec": {
      "name": "python3",
      "display_name": "Python 3"
    },
    "language_info": {
      "name": "python"
    }
  },
  "cells": [
    {
      "cell_type": "markdown",
      "metadata": {
        "id": "view-in-github",
        "colab_type": "text"
      },
      "source": [
        "<a href=\"https://colab.research.google.com/github/2303A54067/aiml/blob/main/AIML_Lab_A_03%5B03_09_2024%5D.ipynb\" target=\"_parent\"><img src=\"https://colab.research.google.com/assets/colab-badge.svg\" alt=\"Open In Colab\"/></a>"
      ]
    },
    {
      "cell_type": "markdown",
      "source": [
        "**PART-01**"
      ],
      "metadata": {
        "id": "gmLkgEe2SNUb"
      }
    },
    {
      "cell_type": "code",
      "execution_count": null,
      "metadata": {
        "id": "Ogc7BW7sNia8"
      },
      "outputs": [],
      "source": [
        "from collections import namedtuple, Counter, defaultdict\n",
        "import random\n",
        "import math\n",
        "import functools\n",
        "cache = functools.lru_cache(10**6)"
      ]
    },
    {
      "cell_type": "code",
      "source": [
        "class Game:\n",
        "  def actions(self, state):\n",
        "    raise NotImplementedError\n",
        "  def result(self, state, move):\n",
        "    raise NotImplementedError\n",
        "  def is_terminal(self, state):\n",
        "    return not self.actions(state)\n",
        "  def utility(self, state, player):\n",
        "    raise NotImplementedError"
      ],
      "metadata": {
        "id": "mTlhEDx0OTKs"
      },
      "execution_count": null,
      "outputs": []
    },
    {
      "cell_type": "code",
      "source": [
        "def play_game(game, strategies: dict, verbose=False):\n",
        "  state = game.initial\n",
        "  while not game.is_terminal(state):\n",
        "    player = state.to_move\n",
        "    move = strategies[player](game, state)\n",
        "    state = game.result(state, move)\n",
        "    if verbose:\n",
        "      print('Player', player, 'move:', move)\n",
        "      print(state)\n",
        "  return state"
      ],
      "metadata": {
        "id": "JQJyqgUNQy40"
      },
      "execution_count": null,
      "outputs": []
    },
    {
      "cell_type": "markdown",
      "source": [
        "**PART-02: Implementation of Game Strategy using Algorithm**"
      ],
      "metadata": {
        "id": "bb3W-xdoCG2b"
      }
    },
    {
      "cell_type": "code",
      "source": [
        "def minimax_search(game, state):\n",
        "  player = state.to_move\n",
        "  def max_value(state):\n",
        "    if game.is_terminal(state):\n",
        "      return game.utility(state, player), None\n",
        "    v, move = -infinity, None\n",
        "    for a in game.actions(state):\n",
        "      v2, _ = min_value(game.result(state, a))\n",
        "      if v2 > v:\n",
        "        v, move = v2, a\n",
        "    return v, move\n",
        "  def min_value(state):\n",
        "    if game.is_terminal(state):\n",
        "      return game.utility(state, player), None\n",
        "    v, move = +infinity, None\n",
        "    for a in game.actions(state):\n",
        "      v2, _ = max_value(game.result(state, a))\n",
        "      if v2 < v:\n",
        "        v, move = v2, a\n",
        "    return v, move\n",
        "  return max_value(state)\n",
        "infinity = math.inf"
      ],
      "metadata": {
        "id": "LEHe9m5sCVNd"
      },
      "execution_count": 4,
      "outputs": []
    },
    {
      "cell_type": "code",
      "source": [
        "def alphabeta_search(game, state):\n",
        "  player = state.to_move\n",
        "  def max_value(state, alpha, beta):\n",
        "    if game.is_terminal(state):\n",
        "      return game.utility(state, player), None\n",
        "    v, move = -infinity, None\n",
        "    for a in game.actions(state):\n",
        "      v2, _ = min_value(game.result(state, a), alpha, beta)\n",
        "      if v2 > v:\n",
        "        v, move = v2, a\n",
        "        alpha = max(alpha, v)\n",
        "      if v >= beta:\n",
        "        return v, move\n",
        "    return v, move\n",
        "  def min_value(state, alpha, beta):\n",
        "    if game.is_terminal(state):\n",
        "      return game.utility(state, player), None\n",
        "    v, move = +infinity, None\n",
        "    for a in game.actions(state):\n",
        "      v2, _ = max_value(game.result(state, a), alpha, beta)\n",
        "      if v2 < v:\n",
        "        v, move = v2, a\n",
        "        beta = min(beta, v)\n",
        "      if v <= alpha:\n",
        "        return v, move\n",
        "    return v, move\n",
        "  return max_value(state, -infinity, +infinity)\n",
        "infinity = math.inf"
      ],
      "metadata": {
        "id": "yDJNFMbAJrfZ"
      },
      "execution_count": 5,
      "outputs": []
    },
    {
      "cell_type": "code",
      "source": [],
      "metadata": {
        "id": "SHe6J5mANMBu"
      },
      "execution_count": null,
      "outputs": []
    },
    {
      "cell_type": "markdown",
      "source": [
        "**PART-03:Implement the Game Strategy using Tic Tac Toe**"
      ],
      "metadata": {
        "id": "OQIe9EggNVMG"
      }
    },
    {
      "cell_type": "code",
      "source": [
        "class TicTacToe(Game):\n",
        "  def __init__(self, height=3, width=3, k=3):\n",
        "    self.k = k\n",
        "    self.squares = {(x, y) for x in range(width) for y in range(height)}\n",
        "    self.initial = Board(height=height, width=width, to_move='X', utility=0)\n",
        "  def actions(self, board):\n",
        "    return self.squares - set(board)\n",
        "  def result(self, board, square):\n",
        "    player = board.to_move\n",
        "    board = board.new({square: player}, to_move=('O' if player == 'X' else 'X'))\n",
        "    win = k_in_row(board, player, square, self.k)\n",
        "    board.utility = (0 if not win else +1 if player == 'X' else -1)\n",
        "    return board\n",
        "  def utility(self, board, player):\n",
        "    return board.utility if player == 'X' else -board.utility\n",
        "  def is_terminal(self, board):\n",
        "    return board.utility != 0 or len(self.squares) == len(board)\n",
        "  def display(self, board):\n",
        "    print(board)\n",
        "def k_in_row(board, player, square, k):\n",
        "  def in_row(x, y, dx, dy):\n",
        "    return 0 if board[x, y] != player else 1 + in_row(x + dx, y + dy, dx, dy)\n",
        "  return any(in_row(*square, dx, dy) + in_row(*square, -dx, -dy) - 1 >= k\n",
        "             for (dx, dy) in ((0, 1), (1, 0), (1, 1), (1, -1)))"
      ],
      "metadata": {
        "id": "HQeb6tLRNoGI"
      },
      "execution_count": 7,
      "outputs": []
    },
    {
      "cell_type": "code",
      "source": [
        "class Board(defaultdict):\n",
        "  empty = '.'\n",
        "  off = '#'\n",
        "  def __init__(self, width=8, height=8, to_move=None, **kwds):\n",
        "    self.__dict__.update(width=width, height=height, to_move=to_move, **kwds)\n",
        "  def new(self, changes: dict, **kwds) -> 'Board':\n",
        "    board = Board(width=self.width, height=self.height, **kwds)\n",
        "    board.update(self)\n",
        "    board.update(changes)\n",
        "    return board\n",
        "  def __missing__(self, loc):\n",
        "    x, y = loc\n",
        "    if 0 <= x < self.width and 0 <= y < self.height:\n",
        "      return self.empty\n",
        "    else:\n",
        "      return self.off\n",
        "  def __hash__(self):\n",
        "    return hash(tuple(sorted(self.items()))) + hash(self.to_move)\n",
        "  def __repr__(self):\n",
        "    def row(y):\n",
        "      return ' '.join(self[x, y] for x in range(self.width))\n",
        "    return'\\n'.join(map(row, range(self.height))) + '\\n'"
      ],
      "metadata": {
        "id": "9mUMqo4GSvDw"
      },
      "execution_count": 8,
      "outputs": []
    },
    {
      "cell_type": "code",
      "source": [
        "def random_player(game, state):\n",
        "  return random.choice(list(game.actions(state)))\n",
        "def player(search_algorithm):\n",
        "  return lambda game, state: search_algorithm(game, state)[1]"
      ],
      "metadata": {
        "id": "H3SJwYT9WY_o"
      },
      "execution_count": 9,
      "outputs": []
    },
    {
      "cell_type": "code",
      "source": [],
      "metadata": {
        "id": "EHm311gpXho2"
      },
      "execution_count": null,
      "outputs": []
    },
    {
      "cell_type": "markdown",
      "source": [
        "**Evaluate the Game Strategy using Tic Tok Toe**"
      ],
      "metadata": {
        "id": "opmchjp6Xi-c"
      }
    },
    {
      "cell_type": "code",
      "source": [
        "play_game(TicTacToe(), dict(X=player(alphabeta_search), O=random_player), verbose=True).utility"
      ],
      "metadata": {
        "colab": {
          "base_uri": "https://localhost:8080/"
        },
        "id": "TZ9Qeb0WXv9X",
        "outputId": "8ed82ab8-2f45-40d8-8ffe-95186762e026"
      },
      "execution_count": 10,
      "outputs": [
        {
          "output_type": "stream",
          "name": "stdout",
          "text": [
            "Player X move: (0, 1)\n",
            ". . .\n",
            "X . .\n",
            ". . .\n",
            "\n",
            "Player O move: (2, 2)\n",
            ". . .\n",
            "X . .\n",
            ". . O\n",
            "\n",
            "Player X move: (0, 2)\n",
            ". . .\n",
            "X . .\n",
            "X . O\n",
            "\n",
            "Player O move: (2, 0)\n",
            ". . O\n",
            "X . .\n",
            "X . O\n",
            "\n",
            "Player X move: (2, 1)\n",
            ". . O\n",
            "X . X\n",
            "X . O\n",
            "\n",
            "Player O move: (0, 0)\n",
            "O . O\n",
            "X . X\n",
            "X . O\n",
            "\n",
            "Player X move: (1, 1)\n",
            "O . O\n",
            "X X X\n",
            "X . O\n",
            "\n"
          ]
        },
        {
          "output_type": "execute_result",
          "data": {
            "text/plain": [
              "1"
            ]
          },
          "metadata": {},
          "execution_count": 10
        }
      ]
    }
  ]
}